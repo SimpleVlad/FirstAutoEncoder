{
  "nbformat": 4,
  "nbformat_minor": 0,
  "metadata": {
    "colab": {
      "name": "AutoEncoder.ipynb",
      "provenance": [],
      "collapsed_sections": [],
      "include_colab_link": true
    },
    "kernelspec": {
      "name": "python3",
      "display_name": "Python 3"
    },
    "accelerator": "GPU"
  },
  "cells": [
    {
      "cell_type": "markdown",
      "metadata": {
        "id": "view-in-github",
        "colab_type": "text"
      },
      "source": [
        "<a href=\"https://colab.research.google.com/github/SimpleVlad/FirstAutoEncoder/blob/master/AutoEncoder.ipynb\" target=\"_parent\"><img src=\"https://colab.research.google.com/assets/colab-badge.svg\" alt=\"Open In Colab\"/></a>"
      ]
    },
    {
      "cell_type": "code",
      "metadata": {
        "id": "lXc_1Kl2qfwv",
        "colab_type": "code",
        "colab": {
          "base_uri": "https://localhost:8080/",
          "height": 114
        },
        "outputId": "aca25332-1ee5-4280-b53a-3fa78b806ff9"
      },
      "source": [
        "from keras.datasets import mnist\n",
        "import numpy as np\n",
        "\n",
        "%matplotlib inline\n",
        "import seaborn as sns\n",
        "import matplotlib.pyplot as plt\n",
        "from keras.layers import Input, Dense, Flatten, Reshape\n",
        "from keras.models import Model\n",
        "\n",
        "(x_train, y_train), (x_test, y_test) = mnist.load_data()\n",
        "\n",
        "x_train = x_train.astype('float32') / 255.\n",
        "x_test  = x_test .astype('float32') / 255.\n",
        "x_train = np.reshape(x_train, (len(x_train), 28, 28, 1))\n",
        "x_test  = np.reshape(x_test,  (len(x_test),  28, 28, 1))\n",
        "\n"
      ],
      "execution_count": 1,
      "outputs": [
        {
          "output_type": "stream",
          "text": [
            "Using TensorFlow backend.\n"
          ],
          "name": "stderr"
        },
        {
          "output_type": "display_data",
          "data": {
            "text/html": [
              "<p style=\"color: red;\">\n",
              "The default version of TensorFlow in Colab will soon switch to TensorFlow 2.x.<br>\n",
              "We recommend you <a href=\"https://www.tensorflow.org/guide/migrate\" target=\"_blank\">upgrade</a> now \n",
              "or ensure your notebook will continue to use TensorFlow 1.x via the <code>%tensorflow_version 1.x</code> magic:\n",
              "<a href=\"https://colab.research.google.com/notebooks/tensorflow_version.ipynb\" target=\"_blank\">more info</a>.</p>\n"
            ],
            "text/plain": [
              "<IPython.core.display.HTML object>"
            ]
          },
          "metadata": {
            "tags": []
          }
        },
        {
          "output_type": "stream",
          "text": [
            "Downloading data from https://s3.amazonaws.com/img-datasets/mnist.npz\n",
            "11493376/11490434 [==============================] - 1s 0us/step\n"
          ],
          "name": "stdout"
        }
      ]
    },
    {
      "cell_type": "code",
      "metadata": {
        "id": "37Hx2fkbtDQI",
        "colab_type": "code",
        "colab": {}
      },
      "source": [
        "\n",
        "\n",
        "def create_dense_ae():\n",
        "    # Размерность кодированного представления\n",
        "    encoding_dim = 49\n",
        "\n",
        "    # Энкодер\n",
        "    # Входной плейсхолдер\n",
        "    input_img = Input(shape=(28, 28, 1)) # 28, 28, 1 - размерности строк, столбцов, фильтров одной картинки, без батч-размерности\n",
        "    # Вспомогательный слой решейпинга\n",
        "    flat_img = Flatten()(input_img)\n",
        "    # Кодированное полносвязным слоем представление\n",
        "    encoded = Dense(encoding_dim, activation='relu')(flat_img)\n",
        "    \n",
        "    # Декодер\n",
        "    # Раскодированное другим полносвязным слоем изображение\n",
        "    input_encoded = Input(shape=(encoding_dim,))\n",
        "    flat_decoded = Dense(28*28, activation='sigmoid')(input_encoded)\n",
        "    decoded = Reshape((28, 28, 1))(flat_decoded)\n",
        "\n",
        "    # Модели, в конструктор первым аргументом передаются входные слои, а вторым выходные слои\n",
        "    # Другие модели можно так же использовать как и слои\n",
        "    encoder = Model(input_img, encoded, name=\"encoder\")\n",
        "    decoder = Model(input_encoded, decoded, name=\"decoder\")\n",
        "    autoencoder = Model(input_img, decoder(encoder(input_img)), name=\"autoencoder\")\n",
        "    return encoder, decoder, autoencoder"
      ],
      "execution_count": 0,
      "outputs": []
    },
    {
      "cell_type": "code",
      "metadata": {
        "id": "QUhsgW6QtiAv",
        "colab_type": "code",
        "colab": {
          "base_uri": "https://localhost:8080/",
          "height": 238
        },
        "outputId": "537b5669-6600-4a56-b941-43b8866b442c"
      },
      "source": [
        "encoder, decoder, autoencoder = create_dense_ae()\n",
        "autoencoder.compile(optimizer='adam', loss='binary_crossentropy')"
      ],
      "execution_count": 4,
      "outputs": [
        {
          "output_type": "stream",
          "text": [
            "WARNING:tensorflow:From /usr/local/lib/python3.6/dist-packages/keras/backend/tensorflow_backend.py:66: The name tf.get_default_graph is deprecated. Please use tf.compat.v1.get_default_graph instead.\n",
            "\n",
            "WARNING:tensorflow:From /usr/local/lib/python3.6/dist-packages/keras/backend/tensorflow_backend.py:541: The name tf.placeholder is deprecated. Please use tf.compat.v1.placeholder instead.\n",
            "\n",
            "WARNING:tensorflow:From /usr/local/lib/python3.6/dist-packages/keras/backend/tensorflow_backend.py:4432: The name tf.random_uniform is deprecated. Please use tf.random.uniform instead.\n",
            "\n",
            "WARNING:tensorflow:From /usr/local/lib/python3.6/dist-packages/keras/optimizers.py:793: The name tf.train.Optimizer is deprecated. Please use tf.compat.v1.train.Optimizer instead.\n",
            "\n",
            "WARNING:tensorflow:From /usr/local/lib/python3.6/dist-packages/keras/backend/tensorflow_backend.py:3657: The name tf.log is deprecated. Please use tf.math.log instead.\n",
            "\n",
            "WARNING:tensorflow:From /usr/local/lib/python3.6/dist-packages/tensorflow_core/python/ops/nn_impl.py:183: where (from tensorflow.python.ops.array_ops) is deprecated and will be removed in a future version.\n",
            "Instructions for updating:\n",
            "Use tf.where in 2.0, which has the same broadcast rule as np.where\n"
          ],
          "name": "stdout"
        }
      ]
    },
    {
      "cell_type": "code",
      "metadata": {
        "id": "fJ-SBQJvukkn",
        "colab_type": "code",
        "outputId": "1b4e9715-7bd8-4569-b56a-a0b9b4f6b0a4",
        "colab": {
          "base_uri": "https://localhost:8080/",
          "height": 255
        }
      },
      "source": [
        "autoencoder.summary()"
      ],
      "execution_count": 5,
      "outputs": [
        {
          "output_type": "stream",
          "text": [
            "Model: \"autoencoder\"\n",
            "_________________________________________________________________\n",
            "Layer (type)                 Output Shape              Param #   \n",
            "=================================================================\n",
            "input_1 (InputLayer)         (None, 28, 28, 1)         0         \n",
            "_________________________________________________________________\n",
            "encoder (Model)              (None, 49)                38465     \n",
            "_________________________________________________________________\n",
            "decoder (Model)              (None, 28, 28, 1)         39200     \n",
            "=================================================================\n",
            "Total params: 77,665\n",
            "Trainable params: 77,665\n",
            "Non-trainable params: 0\n",
            "_________________________________________________________________\n"
          ],
          "name": "stdout"
        }
      ]
    },
    {
      "cell_type": "code",
      "metadata": {
        "id": "g9b2WS1mZeO0",
        "colab_type": "code",
        "outputId": "de47c976-1764-4a56-bfc2-241c8c9723c5",
        "colab": {
          "base_uri": "https://localhost:8080/",
          "height": 1000
        }
      },
      "source": [
        "autoencoder.fit(x_train, x_train,\n",
        "                epochs=100,\n",
        "                batch_size=256,\n",
        "                shuffle=True,\n",
        "                validation_data=(x_test, x_test))"
      ],
      "execution_count": 11,
      "outputs": [
        {
          "output_type": "stream",
          "text": [
            "Train on 60000 samples, validate on 10000 samples\n",
            "Epoch 1/40\n",
            "60000/60000 [==============================] - 4s 62us/step - loss: 0.0823 - val_loss: 0.0809\n",
            "Epoch 2/40\n",
            "60000/60000 [==============================] - 4s 62us/step - loss: 0.0815 - val_loss: 0.0802\n",
            "Epoch 3/40\n",
            "60000/60000 [==============================] - 4s 63us/step - loss: 0.0810 - val_loss: 0.0799\n",
            "Epoch 4/40\n",
            "60000/60000 [==============================] - 4s 63us/step - loss: 0.0806 - val_loss: 0.0795\n",
            "Epoch 5/40\n",
            "60000/60000 [==============================] - 4s 62us/step - loss: 0.0803 - val_loss: 0.0793\n",
            "Epoch 6/40\n",
            "60000/60000 [==============================] - 4s 63us/step - loss: 0.0801 - val_loss: 0.0792\n",
            "Epoch 7/40\n",
            "60000/60000 [==============================] - 4s 63us/step - loss: 0.0799 - val_loss: 0.0790\n",
            "Epoch 8/40\n",
            "60000/60000 [==============================] - 4s 62us/step - loss: 0.0797 - val_loss: 0.0788\n",
            "Epoch 9/40\n",
            "60000/60000 [==============================] - 4s 61us/step - loss: 0.0796 - val_loss: 0.0787\n",
            "Epoch 10/40\n",
            "60000/60000 [==============================] - 4s 61us/step - loss: 0.0795 - val_loss: 0.0786\n",
            "Epoch 11/40\n",
            "60000/60000 [==============================] - 4s 62us/step - loss: 0.0794 - val_loss: 0.0785\n",
            "Epoch 12/40\n",
            "60000/60000 [==============================] - 4s 62us/step - loss: 0.0793 - val_loss: 0.0784\n",
            "Epoch 13/40\n",
            "60000/60000 [==============================] - 4s 62us/step - loss: 0.0792 - val_loss: 0.0784\n",
            "Epoch 14/40\n",
            "60000/60000 [==============================] - 4s 62us/step - loss: 0.0792 - val_loss: 0.0783\n",
            "Epoch 15/40\n",
            "60000/60000 [==============================] - 4s 63us/step - loss: 0.0791 - val_loss: 0.0783\n",
            "Epoch 16/40\n",
            "60000/60000 [==============================] - 4s 62us/step - loss: 0.0790 - val_loss: 0.0783\n",
            "Epoch 17/40\n",
            "60000/60000 [==============================] - 4s 64us/step - loss: 0.0790 - val_loss: 0.0782\n",
            "Epoch 18/40\n",
            "60000/60000 [==============================] - 4s 62us/step - loss: 0.0789 - val_loss: 0.0781\n",
            "Epoch 19/40\n",
            "60000/60000 [==============================] - 4s 63us/step - loss: 0.0789 - val_loss: 0.0781\n",
            "Epoch 20/40\n",
            "60000/60000 [==============================] - 4s 63us/step - loss: 0.0789 - val_loss: 0.0781\n",
            "Epoch 21/40\n",
            "60000/60000 [==============================] - 4s 61us/step - loss: 0.0788 - val_loss: 0.0781\n",
            "Epoch 22/40\n",
            "60000/60000 [==============================] - 4s 61us/step - loss: 0.0788 - val_loss: 0.0781\n",
            "Epoch 23/40\n",
            "60000/60000 [==============================] - 4s 63us/step - loss: 0.0788 - val_loss: 0.0780\n",
            "Epoch 24/40\n",
            "60000/60000 [==============================] - 4s 62us/step - loss: 0.0788 - val_loss: 0.0780\n",
            "Epoch 25/40\n",
            "60000/60000 [==============================] - 4s 65us/step - loss: 0.0787 - val_loss: 0.0780\n",
            "Epoch 26/40\n",
            "60000/60000 [==============================] - 4s 64us/step - loss: 0.0787 - val_loss: 0.0782\n",
            "Epoch 27/40\n",
            "60000/60000 [==============================] - 4s 63us/step - loss: 0.0787 - val_loss: 0.0780\n",
            "Epoch 28/40\n",
            "60000/60000 [==============================] - 4s 61us/step - loss: 0.0787 - val_loss: 0.0779\n",
            "Epoch 29/40\n",
            "60000/60000 [==============================] - 4s 61us/step - loss: 0.0786 - val_loss: 0.0781\n",
            "Epoch 30/40\n",
            "60000/60000 [==============================] - 4s 62us/step - loss: 0.0786 - val_loss: 0.0779\n",
            "Epoch 31/40\n",
            "60000/60000 [==============================] - 4s 62us/step - loss: 0.0786 - val_loss: 0.0780\n",
            "Epoch 32/40\n",
            "60000/60000 [==============================] - 4s 63us/step - loss: 0.0786 - val_loss: 0.0779\n",
            "Epoch 33/40\n",
            "60000/60000 [==============================] - 4s 62us/step - loss: 0.0786 - val_loss: 0.0779\n",
            "Epoch 34/40\n",
            "60000/60000 [==============================] - 4s 63us/step - loss: 0.0786 - val_loss: 0.0778\n",
            "Epoch 35/40\n",
            "60000/60000 [==============================] - 4s 63us/step - loss: 0.0786 - val_loss: 0.0778\n",
            "Epoch 36/40\n",
            "60000/60000 [==============================] - 4s 63us/step - loss: 0.0786 - val_loss: 0.0779\n",
            "Epoch 37/40\n",
            "60000/60000 [==============================] - 4s 63us/step - loss: 0.0785 - val_loss: 0.0778\n",
            "Epoch 38/40\n",
            "60000/60000 [==============================] - 4s 62us/step - loss: 0.0785 - val_loss: 0.0778\n",
            "Epoch 39/40\n",
            "60000/60000 [==============================] - 4s 62us/step - loss: 0.0785 - val_loss: 0.0779\n",
            "Epoch 40/40\n",
            "60000/60000 [==============================] - 4s 63us/step - loss: 0.0785 - val_loss: 0.0778\n"
          ],
          "name": "stdout"
        },
        {
          "output_type": "execute_result",
          "data": {
            "text/plain": [
              "<keras.callbacks.History at 0x7fa1d6f2e4e0>"
            ]
          },
          "metadata": {
            "tags": []
          },
          "execution_count": 11
        }
      ]
    },
    {
      "cell_type": "code",
      "metadata": {
        "id": "29gaaCPhaavb",
        "colab_type": "code",
        "colab": {}
      },
      "source": [
        "\n",
        "\n",
        "def plot_digits(*args):\n",
        "    args = [x.squeeze() for x in args]\n",
        "    n = min([x.shape[0] for x in args])\n",
        "    \n",
        "    plt.figure(figsize=(2*n, 2*len(args)))\n",
        "    for j in range(n):\n",
        "        for i in range(len(args)):\n",
        "            ax = plt.subplot(len(args), n, i*n + j + 1)\n",
        "            plt.imshow(args[i][j])\n",
        "            plt.gray()\n",
        "            ax.get_xaxis().set_visible(False)\n",
        "            ax.get_yaxis().set_visible(False)\n",
        "\n",
        "    plt.show()"
      ],
      "execution_count": 0,
      "outputs": []
    },
    {
      "cell_type": "code",
      "metadata": {
        "id": "GzC6X7i1ak3W",
        "colab_type": "code",
        "outputId": "c6428679-e49f-4108-b6e2-25884e3929d2",
        "colab": {
          "base_uri": "https://localhost:8080/",
          "height": 187
        }
      },
      "source": [
        "n = 10\n",
        "\n",
        "imgs = x_test[:n]\n",
        "encoded_imgs = encoder.predict(imgs, batch_size=n)\n",
        "encoded_imgs[0]"
      ],
      "execution_count": 14,
      "outputs": [
        {
          "output_type": "execute_result",
          "data": {
            "text/plain": [
              "array([ 8.884248 ,  7.062192 ,  8.039506 ,  7.383704 ,  3.5581586,\n",
              "        1.5543332,  4.762117 ,  3.5119479, 11.142338 ,  5.205528 ,\n",
              "        2.0112247,  5.2743173,  5.3490095,  4.880188 ,  7.2230525,\n",
              "        5.867038 ,  6.7410636,  6.290064 ,  8.658377 ,  3.5675933,\n",
              "        2.8210938,  9.124893 ,  7.152712 ,  1.6849092,  6.993626 ,\n",
              "        7.4024124,  7.1836433,  4.992969 , 10.099931 ,  7.2811747,\n",
              "        3.9440553, 10.689108 ,  9.6983385,  4.6736536,  6.8394485,\n",
              "        5.7777977, 14.4377575,  5.5323777,  4.232252 ,  1.9654057,\n",
              "        9.963948 ,  7.5709696,  4.124878 ,  4.6486187, 16.026306 ,\n",
              "        4.8997884,  1.9925625,  8.998664 ,  5.0837984], dtype=float32)"
            ]
          },
          "metadata": {
            "tags": []
          },
          "execution_count": 14
        }
      ]
    },
    {
      "cell_type": "code",
      "metadata": {
        "id": "AHUanqMDasTZ",
        "colab_type": "code",
        "outputId": "86948e90-d91d-4ea6-a63d-8d99285e6d1d",
        "colab": {
          "base_uri": "https://localhost:8080/",
          "height": 248
        }
      },
      "source": [
        "decoded_imgs = decoder.predict(encoded_imgs, batch_size=n)\n",
        "\n",
        "plot_digits(imgs, decoded_imgs)"
      ],
      "execution_count": 15,
      "outputs": [
        {
          "output_type": "display_data",
          "data": {
            "image/png": "[encoded data removed]",
            "text/plain": [
              "<Figure size 1440x288 with 20 Axes>"
            ]
          },
          "metadata": {
            "tags": []
          }
        }
      ]
    }
  ]
}